{
 "cells": [
  {
   "cell_type": "markdown",
   "metadata": {},
   "source": [
    "### 주요한IPython 매직명령어"
   ]
  },
  {
   "cell_type": "markdown",
   "metadata": {},
   "source": [
    "%quickref\n",
    "%magic\n",
    "%devug\n",
    "%hist"
   ]
  },
  {
   "cell_type": "markdown",
   "metadata": {},
   "source": [
    "### 모듈"
   ]
  },
  {
   "cell_type": "code",
   "execution_count": 4,
   "metadata": {},
   "outputs": [],
   "source": [
    "import sys, os\n",
    "from sys import api_version\n",
    "from os import *\n",
    "import numpy.linalg as peter"
   ]
  },
  {
   "cell_type": "markdown",
   "metadata": {},
   "source": [
    "* import 키워드 다음에는 바로 사용할 객체명을 넣어줘야지, math.sqrt 처럼 사용 시 오류가 발생함을 알 수 있따.\n",
    "* from math import sqrt as s\n",
    "* from math import * (OK)\n",
    "* from math import sqrt, aba, cbc\n",
    "* import math.sqrt (Error)"
   ]
  },
  {
   "cell_type": "code",
   "execution_count": 185,
   "metadata": {},
   "outputs": [],
   "source": [
    "from math import sqrt as ss, sin as ii"
   ]
  },
  {
   "cell_type": "markdown",
   "metadata": {},
   "source": [
    "### 동적인자료형"
   ]
  },
  {
   "cell_type": "markdown",
   "metadata": {},
   "source": [
    "* 키워드: type"
   ]
  },
  {
   "cell_type": "markdown",
   "metadata": {},
   "source": [
    "### 수치자료형"
   ]
  },
  {
   "cell_type": "markdown",
   "metadata": {},
   "source": [
    "* 정수는int와long 타입이있으며long의PRECISION은무한대임.\n",
    "* •실수(float)는C의double에대응됨\n",
    "* •복소수(complex)는두개의실수(실수, 허수)로구성\n",
    "* •16진수: 0xFF = 255\n",
    "* •8진수: 0o1337 = 735"
   ]
  },
  {
   "cell_type": "markdown",
   "metadata": {},
   "source": [
    "### 이항연산자"
   ]
  },
  {
   "cell_type": "markdown",
   "metadata": {},
   "source": [
    "* a // b\n",
    "    * a를b로나눈몫을취한다\n",
    "* a is b\n",
    "    * a와b가같은파이썬객체를참조할경우True\n",
    "* a is not b\n",
    "    * a와b가다른파이썬객체를참조할경우True"
   ]
  },
  {
   "cell_type": "markdown",
   "metadata": {},
   "source": [
    "### 수학"
   ]
  },
  {
   "cell_type": "markdown",
   "metadata": {},
   "source": [
    "* math모듈"
   ]
  },
  {
   "cell_type": "markdown",
   "metadata": {},
   "source": [
    "### 제어구조\n",
    "    * if, elif, else"
   ]
  },
  {
   "cell_type": "markdown",
   "metadata": {},
   "source": [
    "### For 루프"
   ]
  },
  {
   "cell_type": "code",
   "execution_count": 187,
   "metadata": {},
   "outputs": [
    {
     "name": "stdout",
     "output_type": "stream",
     "text": [
      "c\n",
      "b\n",
      "d\n",
      "f\n"
     ]
    }
   ],
   "source": [
    "# 사전 주의\n",
    "d={'f':5 ,'b':2, 'c':3, 'd':4}\n",
    "for k in d:\n",
    "    print k  #key를 출력"
   ]
  },
  {
   "cell_type": "code",
   "execution_count": 14,
   "metadata": {},
   "outputs": [
    {
     "name": "stdout",
     "output_type": "stream",
     "text": [
      "c 3\n",
      "b 2\n",
      "d 4\n",
      "f 5\n"
     ]
    }
   ],
   "source": [
    "for k, v in d.items():\n",
    "    print k, v"
   ]
  },
  {
   "cell_type": "code",
   "execution_count": 188,
   "metadata": {},
   "outputs": [
    {
     "name": "stdout",
     "output_type": "stream",
     "text": [
      "3\n",
      "2\n",
      "4\n",
      "5\n"
     ]
    }
   ],
   "source": [
    "for v in d.values():\n",
    "    print v"
   ]
  },
  {
   "cell_type": "markdown",
   "metadata": {},
   "source": [
    "### str 연산\n",
    "    * split\n",
    "    * find\n",
    "    * replace"
   ]
  },
  {
   "cell_type": "code",
   "execution_count": 16,
   "metadata": {},
   "outputs": [
    {
     "name": "stdout",
     "output_type": "stream",
     "text": [
      "6.    5 vs 0005\n"
     ]
    }
   ],
   "source": [
    "i=5\n",
    "print ('6. %4i vs %04i' % (i,i))"
   ]
  },
  {
   "cell_type": "code",
   "execution_count": 24,
   "metadata": {},
   "outputs": [
    {
     "name": "stdout",
     "output_type": "stream",
     "text": [
      "1 is 0.812723\n"
     ]
    }
   ],
   "source": [
    "import random\n",
    "def compute(n):\n",
    "    i=0; s=0\n",
    "    while i<=n:\n",
    "        s+=random.random()\n",
    "        i+=1\n",
    "    return s/n\n",
    "\n",
    "n=1\n",
    "print ('%d is %g' %(n, compute(n)))"
   ]
  },
  {
   "cell_type": "markdown",
   "metadata": {},
   "source": [
    "### 시퀀스 자료형\n",
    "    * 문자열, 리스트, 튜플 등\n",
    "    * 특징: 여러 객체 저장, 순서있음, 인덱스 사용 참조가능"
   ]
  },
  {
   "cell_type": "markdown",
   "metadata": {},
   "source": [
    "* 공통연산\n",
    "    * 색인: s[k]\n",
    "    * •슬라이싱: s[start:end:step]\n",
    "           * - 표시는 시퀀스 자료형의 뒤부터 색인\n",
    "    * •연결: s1 + s2\n",
    "    * •반복: s * number_of_repeat\n",
    "    * •멤버십테스트: member in sequence\n",
    "    * •길이정보: len(sequence)"
   ]
  },
  {
   "cell_type": "markdown",
   "metadata": {},
   "source": [
    "* 리스트:순서를 가지는 파이썬 임의 객체의 집합이다.\n",
    "* 튜플: immutable 순서를 가지는 파이썬 임의 객체의 집합이다. 내용 변경이 안된다"
   ]
  },
  {
   "cell_type": "markdown",
   "metadata": {},
   "source": [
    "* else는 사용가능, if를 앞에 사용가능\n",
    "* extend()는 + 연산과 같음"
   ]
  },
  {
   "cell_type": "code",
   "execution_count": 29,
   "metadata": {
    "scrolled": true
   },
   "outputs": [
    {
     "name": "stdout",
     "output_type": "stream",
     "text": [
      "[0, 1, 4, 9, 16]\n",
      "[(0, 0), (1, 1), (2, 4), (3, 9), (4, 16)]\n"
     ]
    }
   ],
   "source": [
    "# List Comprehension\n",
    "lst=[x**2 for x in xrange(10) if x<5]\n",
    "print lst\n",
    "lst=[(x,x**2) for x in xrange(10) if x<5]\n",
    "print lst"
   ]
  },
  {
   "cell_type": "markdown",
   "metadata": {},
   "source": [
    "### 사전형\n",
    "* clear(): 모든 아이템 삭제\n",
    "* copy(): 얕은 복사\n",
    "* D.fromkeys(): d에서 키 값을 가져와서 새로운 사전을 생성\n",
    "* get(): 존재하면 d[key], else default 리턴\n",
    "* setdefault(): 존재하지 않을 때 값을 설정\n",
    "* d.update(b)\n",
    "* 순서를가지지않는객체의집합. 키(Key)로값을꺼낸다."
   ]
  },
  {
   "cell_type": "code",
   "execution_count": 190,
   "metadata": {},
   "outputs": [],
   "source": [
    "d1={'finger':5 ,'bat':2, 'color':3, 'doc':4}"
   ]
  },
  {
   "cell_type": "code",
   "execution_count": 196,
   "metadata": {},
   "outputs": [],
   "source": [
    "d2=d1.fromkeys('finger', 333)"
   ]
  },
  {
   "cell_type": "code",
   "execution_count": 202,
   "metadata": {},
   "outputs": [],
   "source": [
    "d2.update(d1)\n",
    "# 추가하는 건가보네?"
   ]
  },
  {
   "cell_type": "code",
   "execution_count": 203,
   "metadata": {},
   "outputs": [
    {
     "data": {
      "text/plain": [
       "{'bat': 2,\n",
       " 'color': 3,\n",
       " 'doc': 4,\n",
       " 'e': 333,\n",
       " 'f': 333,\n",
       " 'finger': 5,\n",
       " 'g': 333,\n",
       " 'i': 333,\n",
       " 'n': 333,\n",
       " 'r': 333}"
      ]
     },
     "execution_count": 203,
     "metadata": {},
     "output_type": "execute_result"
    }
   ],
   "source": [
    "d2"
   ]
  },
  {
   "cell_type": "code",
   "execution_count": 39,
   "metadata": {},
   "outputs": [
    {
     "data": {
      "text/plain": [
       "5"
      ]
     },
     "execution_count": 39,
     "metadata": {},
     "output_type": "execute_result"
    }
   ],
   "source": [
    "d1.get('finger')"
   ]
  },
  {
   "cell_type": "code",
   "execution_count": 38,
   "metadata": {},
   "outputs": [
    {
     "data": {
      "text/plain": [
       "3"
      ]
     },
     "execution_count": 38,
     "metadata": {},
     "output_type": "execute_result"
    }
   ],
   "source": [
    "d1.setdefault('ping',3)"
   ]
  },
  {
   "cell_type": "code",
   "execution_count": 40,
   "metadata": {},
   "outputs": [
    {
     "data": {
      "text/plain": [
       "{'bat': 2, 'color': 3, 'doc': 4, 'finger': 5, 'ping': 3}"
      ]
     },
     "execution_count": 40,
     "metadata": {},
     "output_type": "execute_result"
    }
   ],
   "source": [
    "d1"
   ]
  },
  {
   "cell_type": "markdown",
   "metadata": {},
   "source": [
    "* items()\n",
    "* values()\n",
    "* keys()"
   ]
  },
  {
   "cell_type": "code",
   "execution_count": 42,
   "metadata": {},
   "outputs": [
    {
     "data": {
      "text/plain": [
       "[('color', 3), ('doc', 4), ('bat', 2), ('ping', 3), ('finger', 5)]"
      ]
     },
     "execution_count": 42,
     "metadata": {},
     "output_type": "execute_result"
    }
   ],
   "source": [
    "d1.items()"
   ]
  },
  {
   "cell_type": "code",
   "execution_count": 43,
   "metadata": {},
   "outputs": [
    {
     "data": {
      "text/plain": [
       "[3, 4, 2, 3, 5]"
      ]
     },
     "execution_count": 43,
     "metadata": {},
     "output_type": "execute_result"
    }
   ],
   "source": [
    "d1.values()"
   ]
  },
  {
   "cell_type": "code",
   "execution_count": 45,
   "metadata": {},
   "outputs": [
    {
     "data": {
      "text/plain": [
       "['color', 'doc', 'bat', 'ping', 'finger']"
      ]
     },
     "execution_count": 45,
     "metadata": {},
     "output_type": "execute_result"
    }
   ],
   "source": [
    "d1.keys()"
   ]
  },
  {
   "cell_type": "code",
   "execution_count": 213,
   "metadata": {},
   "outputs": [],
   "source": [
    "d3={}\n",
    "d3['apple']=3"
   ]
  },
  {
   "cell_type": "code",
   "execution_count": 214,
   "metadata": {},
   "outputs": [
    {
     "name": "stdout",
     "output_type": "stream",
     "text": [
      "{'apple': 3}\n"
     ]
    }
   ],
   "source": [
    "print d3"
   ]
  },
  {
   "cell_type": "markdown",
   "metadata": {},
   "source": [
    "### SET\n",
    "* 집합"
   ]
  },
  {
   "cell_type": "code",
   "execution_count": 208,
   "metadata": {},
   "outputs": [],
   "source": [
    "lst_set=[1,2,3,4,5,5,5,6,7,8,9,10]\n",
    "s=set(lst_set)"
   ]
  },
  {
   "cell_type": "code",
   "execution_count": 209,
   "metadata": {},
   "outputs": [
    {
     "name": "stdout",
     "output_type": "stream",
     "text": [
      "set([1, 2, 3, 4, 5, 6, 7, 8, 9, 10])\n"
     ]
    }
   ],
   "source": [
    "#중복 제거\n",
    "print s"
   ]
  },
  {
   "cell_type": "code",
   "execution_count": 51,
   "metadata": {},
   "outputs": [],
   "source": [
    "t=set([1,2,5])"
   ]
  },
  {
   "cell_type": "code",
   "execution_count": 53,
   "metadata": {},
   "outputs": [
    {
     "data": {
      "text/plain": [
       "{1, 2, 3, 4, 5, 6, 7, 8, 9, 10}"
      ]
     },
     "execution_count": 53,
     "metadata": {},
     "output_type": "execute_result"
    }
   ],
   "source": [
    "#합집합\n",
    "s.union(t)"
   ]
  },
  {
   "cell_type": "code",
   "execution_count": 54,
   "metadata": {},
   "outputs": [
    {
     "data": {
      "text/plain": [
       "{1, 2, 5}"
      ]
     },
     "execution_count": 54,
     "metadata": {},
     "output_type": "execute_result"
    }
   ],
   "source": [
    "s.intersection(t)"
   ]
  },
  {
   "cell_type": "code",
   "execution_count": 56,
   "metadata": {},
   "outputs": [
    {
     "name": "stdout",
     "output_type": "stream",
     "text": [
      "set([3, 4, 6, 7, 8, 9, 10])\n"
     ]
    }
   ],
   "source": [
    "#차집합 s-t\n",
    "print s.difference(t)"
   ]
  },
  {
   "cell_type": "code",
   "execution_count": 57,
   "metadata": {},
   "outputs": [
    {
     "name": "stdout",
     "output_type": "stream",
     "text": [
      "True\n"
     ]
    }
   ],
   "source": [
    "#s는 t를 포함\n",
    "print s.issuperset(t)"
   ]
  },
  {
   "cell_type": "code",
   "execution_count": 58,
   "metadata": {},
   "outputs": [
    {
     "name": "stdout",
     "output_type": "stream",
     "text": [
      "False\n"
     ]
    }
   ],
   "source": [
    "#s는 t의 부분집합\n",
    "print s.issubset(t)"
   ]
  },
  {
   "cell_type": "code",
   "execution_count": 61,
   "metadata": {},
   "outputs": [
    {
     "name": "stdout",
     "output_type": "stream",
     "text": [
      "set([3, 4, 6, 7, 8, 9, 10])\n"
     ]
    }
   ],
   "source": [
    "#집합인가?\n",
    "print s.symmetric_difference(t)"
   ]
  },
  {
   "cell_type": "code",
   "execution_count": null,
   "metadata": {},
   "outputs": [],
   "source": [
    ">>> {1, 2}.symmetric_difference([2, 3])\n",
    "set([1, 3])\n",
    ">>> {1, 2}.symmetric_difference([4, 5])\n",
    "set([1, 2, 4, 5])"
   ]
  },
  {
   "cell_type": "code",
   "execution_count": 67,
   "metadata": {},
   "outputs": [
    {
     "name": "stdout",
     "output_type": "stream",
     "text": [
      "881120\n"
     ]
    }
   ],
   "source": [
    "pin='881120-1234567'\n",
    "print pin[:-8]"
   ]
  },
  {
   "cell_type": "code",
   "execution_count": 70,
   "metadata": {
    "scrolled": false
   },
   "outputs": [
    {
     "name": "stdout",
     "output_type": "stream",
     "text": [
      "1\n"
     ]
    }
   ],
   "source": [
    "print pin[-7]"
   ]
  },
  {
   "cell_type": "markdown",
   "metadata": {},
   "source": [
    "### 참조정보얻기\n",
    "* sys.getrefcount\n",
    "* 변경가능한(mutable) 객체의 치환은 참조를 치환\n",
    "* copy는 복사객체 만들어"
   ]
  },
  {
   "cell_type": "code",
   "execution_count": 71,
   "metadata": {},
   "outputs": [
    {
     "name": "stdout",
     "output_type": "stream",
     "text": [
      "[1, 2, 3]\n",
      "[1, 2, 3]\n"
     ]
    }
   ],
   "source": [
    "from copy import copy\n",
    "n=[1,2,3]\n",
    "print n\n",
    "o=copy(n)\n",
    "print o"
   ]
  },
  {
   "cell_type": "code",
   "execution_count": 72,
   "metadata": {},
   "outputs": [],
   "source": [
    "x=[6,7,8]\n",
    "n[0]=x"
   ]
  },
  {
   "cell_type": "code",
   "execution_count": 73,
   "metadata": {},
   "outputs": [
    {
     "name": "stdout",
     "output_type": "stream",
     "text": [
      "[6, 7, 8] [[6, 7, 8], 2, 3]\n"
     ]
    }
   ],
   "source": [
    "print x, n"
   ]
  },
  {
   "cell_type": "code",
   "execution_count": 74,
   "metadata": {},
   "outputs": [
    {
     "name": "stdout",
     "output_type": "stream",
     "text": [
      "[1, 2, 3]\n"
     ]
    }
   ],
   "source": [
    "print o"
   ]
  },
  {
   "cell_type": "code",
   "execution_count": 75,
   "metadata": {},
   "outputs": [],
   "source": [
    "x[1]=0"
   ]
  },
  {
   "cell_type": "code",
   "execution_count": 76,
   "metadata": {},
   "outputs": [
    {
     "name": "stdout",
     "output_type": "stream",
     "text": [
      "[6, 0, 8]\n"
     ]
    }
   ],
   "source": [
    "print x"
   ]
  },
  {
   "cell_type": "code",
   "execution_count": 78,
   "metadata": {},
   "outputs": [],
   "source": [
    "from copy import deepcopy\n",
    "scopy=copy(n)\n",
    "dcopy=deepcopy(n)"
   ]
  },
  {
   "cell_type": "code",
   "execution_count": 79,
   "metadata": {},
   "outputs": [
    {
     "data": {
      "text/plain": [
       "[[6, 0, 8], 2, 3]"
      ]
     },
     "execution_count": 79,
     "metadata": {},
     "output_type": "execute_result"
    }
   ],
   "source": [
    "scopy"
   ]
  },
  {
   "cell_type": "code",
   "execution_count": 80,
   "metadata": {},
   "outputs": [
    {
     "data": {
      "text/plain": [
       "[[6, 0, 8], 2, 3]"
      ]
     },
     "execution_count": 80,
     "metadata": {},
     "output_type": "execute_result"
    }
   ],
   "source": [
    "dcopy"
   ]
  },
  {
   "cell_type": "code",
   "execution_count": 81,
   "metadata": {},
   "outputs": [],
   "source": [
    "x[1]=5;n[2]=7"
   ]
  },
  {
   "cell_type": "code",
   "execution_count": 82,
   "metadata": {},
   "outputs": [
    {
     "name": "stdout",
     "output_type": "stream",
     "text": [
      "[[6, 5, 8], 2, 7] [[6, 5, 8], 2, 3] [[6, 0, 8], 2, 3]\n"
     ]
    }
   ],
   "source": [
    "print n, scopy, dcopy"
   ]
  },
  {
   "cell_type": "markdown",
   "metadata": {},
   "source": [
    "### 리스트 정렬\n",
    "* sort()\n",
    "* reverse()"
   ]
  },
  {
   "cell_type": "markdown",
   "metadata": {},
   "source": [
    "### input()\n",
    "### raw_input()"
   ]
  },
  {
   "cell_type": "code",
   "execution_count": 85,
   "metadata": {},
   "outputs": [
    {
     "name": "stdout",
     "output_type": "stream",
     "text": [
      "[1, 2, 3, 1, 2, 3, 1, 2, 3]\n"
     ]
    }
   ],
   "source": [
    "lst_test=[1,2,3]\n",
    "print lst_test*3"
   ]
  },
  {
   "cell_type": "markdown",
   "metadata": {},
   "source": [
    "## File"
   ]
  },
  {
   "cell_type": "markdown",
   "metadata": {},
   "source": [
    "fileObject = open(file_name [, access_mode][,buffering])\n",
    "    * 접근모드, 초기값은'r'\n",
    "    * buffering:0: 버퍼링안함, 1: 라인버퍼링, 1보다 큰값: 이 값이 버퍼링 크기, 음수: 시스템 초기값)\n",
    "    r/rb/r+/rb+: 파일 포인터는 시작위치\n",
    "    w/wb/w+/wb+: 파일이 있으면 덮어쓰고 없으면 새로 만든다\n",
    "    a/ab: 파일이 있으면 파일포인터는 끝위치, 파일이 없으면 새로만\n",
    "    a+/ab+:파일이 있으면 덧붙이기 모드로 파일을 열고 파일포인터는 끝위치, \n",
    "           파일이 없으면 읽고 쓰기 모드로 새 파일을 만든다."
   ]
  },
  {
   "cell_type": "markdown",
   "metadata": {},
   "source": [
    "* file.closed: 파일이닫혀있으면True, 그렇지않으면False를돌려준다\n",
    "* file.mode: 파일의접근모드를돌려준다\n",
    "* file.name: 파일의이름을돌려준다"
   ]
  },
  {
   "cell_type": "code",
   "execution_count": 243,
   "metadata": {},
   "outputs": [],
   "source": [
    "fileObject = open('today.txt' , 'wb')\n",
    "#파일포인터는 시작위치"
   ]
  },
  {
   "cell_type": "code",
   "execution_count": 245,
   "metadata": {},
   "outputs": [],
   "source": [
    "fileObject.write('good day today')"
   ]
  },
  {
   "cell_type": "code",
   "execution_count": 248,
   "metadata": {},
   "outputs": [],
   "source": [
    "fileObject.close()"
   ]
  },
  {
   "cell_type": "code",
   "execution_count": 252,
   "metadata": {},
   "outputs": [],
   "source": [
    "#파일포인터는 시작위치\n",
    "fileObject= open('today.txt' , 'r')"
   ]
  },
  {
   "cell_type": "code",
   "execution_count": 254,
   "metadata": {},
   "outputs": [
    {
     "data": {
      "text/plain": [
       "['good day today']"
      ]
     },
     "execution_count": 254,
     "metadata": {},
     "output_type": "execute_result"
    }
   ],
   "source": [
    "fileObject.readlines()"
   ]
  },
  {
   "cell_type": "code",
   "execution_count": 256,
   "metadata": {},
   "outputs": [],
   "source": [
    "fileObject.close()"
   ]
  },
  {
   "cell_type": "code",
   "execution_count": 258,
   "metadata": {},
   "outputs": [
    {
     "data": {
      "text/plain": [
       "True"
      ]
     },
     "execution_count": 258,
     "metadata": {},
     "output_type": "execute_result"
    }
   ],
   "source": [
    "fileObject.closed"
   ]
  },
  {
   "cell_type": "code",
   "execution_count": 263,
   "metadata": {},
   "outputs": [],
   "source": [
    "s1=\"python\"\n",
    "\n",
    "s2=s1.replace('t','T')"
   ]
  },
  {
   "cell_type": "code",
   "execution_count": 265,
   "metadata": {},
   "outputs": [
    {
     "name": "stdout",
     "output_type": "stream",
     "text": [
      "python pyThon\n"
     ]
    }
   ],
   "source": [
    "print s1, s2"
   ]
  },
  {
   "cell_type": "code",
   "execution_count": 267,
   "metadata": {},
   "outputs": [
    {
     "data": {
      "text/plain": [
       "'python'"
      ]
     },
     "execution_count": 267,
     "metadata": {},
     "output_type": "execute_result"
    }
   ],
   "source": [
    "s1"
   ]
  },
  {
   "cell_type": "code",
   "execution_count": 268,
   "metadata": {},
   "outputs": [
    {
     "data": {
      "text/plain": [
       "'pyThon'"
      ]
     },
     "execution_count": 268,
     "metadata": {},
     "output_type": "execute_result"
    }
   ],
   "source": [
    "s2"
   ]
  },
  {
   "cell_type": "code",
   "execution_count": 266,
   "metadata": {},
   "outputs": [
    {
     "name": "stdout",
     "output_type": "stream",
     "text": [
      "pyThon\n",
      "pyThon\n"
     ]
    }
   ],
   "source": [
    "#s2=\"pyTHON\"\n",
    "print s2\n",
    "print '%s' %s2"
   ]
  },
  {
   "cell_type": "code",
   "execution_count": 9,
   "metadata": {},
   "outputs": [
    {
     "data": {
      "text/plain": [
       "'pyThon'"
      ]
     },
     "execution_count": 9,
     "metadata": {},
     "output_type": "execute_result"
    }
   ],
   "source": [
    "s2"
   ]
  },
  {
   "cell_type": "markdown",
   "metadata": {},
   "source": [
    "* fileObject.read([count])\n",
    "    * •열린파일에서문자열을읽는다\n",
    "    * count는읽어들일바이트수\n",
    "    * count가지정되지않은경우에는일반적으로파일끝까지읽는다."
   ]
  },
  {
   "cell_type": "markdown",
   "metadata": {},
   "source": [
    "### tell()\n",
    "* 현재위치 알려줌\n",
    "### seek()\n",
    "* 현재위치를 from으로부터 offset만큼 *이동*\n",
    "* fileObject.seek(offset[, from])\n",
    "    * from: 0:파일시작지점, 1:현재위치, 2:파일끝지점\n",
    "    read(count) 에서 count가 지정되지 않는 경우 파일 끝까지 읽는다.\n",
    "* f.seek(0,2) 하게되면 파일 가장 끝으로 포인터가 이동한다.\n",
    "* f.seek(2,1) 하게되면 현재 포인터에서 파일포인터가 2byte 이동한다.\n",
    "* 처음으로 이동하기 f.seek(0,0) : 0 시작부터 0 offset까지\n",
    "* The offset argument indicates the number of bytes to be moved"
   ]
  },
  {
   "cell_type": "code",
   "execution_count": null,
   "metadata": {},
   "outputs": [],
   "source": [
    "# Open a file\n",
    "fo = open(\"foo.txt\", \"r+\")\n",
    "str = fo.read(10);\n",
    "print \"Read String is : \", str\n",
    "\n",
    "# Check current position\n",
    "position = fo.tell();\n",
    "print \"Current file position : \", position\n",
    "\n",
    "# Reposition pointer at the beginning once again\n",
    "position = fo.seek(0, 0);\n",
    "str = fo.read(10);\n",
    "print \"Again read String is : \", str\n",
    "# Close opend file\n",
    "fo.close()"
   ]
  },
  {
   "cell_type": "code",
   "execution_count": null,
   "metadata": {},
   "outputs": [],
   "source": [
    "Read String is :  Python is\n",
    "Current file position :  10\n",
    "Again read String is :  Python is"
   ]
  },
  {
   "cell_type": "code",
   "execution_count": 216,
   "metadata": {},
   "outputs": [],
   "source": [
    "str1='This is python! Life is easy...'\n",
    "punct=',.:;!? '\n",
    "d1={}\n",
    "for c in str1:\n",
    "    try:\n",
    "        if c not in punct:\n",
    "            d1[c]=d1[c]+1\n",
    "    except KeyError:\n",
    "        d1[c]=1"
   ]
  },
  {
   "cell_type": "code",
   "execution_count": 25,
   "metadata": {},
   "outputs": [
    {
     "name": "stdout",
     "output_type": "stream",
     "text": [
      "{'a': 1, 'e': 2, 'f': 1, 'i': 4, 'h': 2, 'L': 1, 'o': 1, 'n': 1, 'p': 1, 's': 4, 'T': 1, 'y': 2, 't': 1}\n"
     ]
    }
   ],
   "source": [
    "print d1"
   ]
  },
  {
   "cell_type": "code",
   "execution_count": 45,
   "metadata": {},
   "outputs": [],
   "source": [
    "d1={}\n",
    "for c in str1:\n",
    "    if c not in punct:\n",
    "        d1.setdefault(c, 0)\n",
    "        d1[c]=d1[c]+1"
   ]
  },
  {
   "cell_type": "code",
   "execution_count": 46,
   "metadata": {},
   "outputs": [
    {
     "name": "stdout",
     "output_type": "stream",
     "text": [
      "{'a': 1, 'e': 2, 'f': 1, 'i': 4, 'h': 2, 'L': 1, 'o': 1, 'n': 1, 'p': 1, 's': 4, 'T': 1, 'y': 2, 't': 1}\n"
     ]
    }
   ],
   "source": [
    "print d1"
   ]
  },
  {
   "cell_type": "code",
   "execution_count": 47,
   "metadata": {},
   "outputs": [
    {
     "ename": "TypeError",
     "evalue": "'str' object does not support item assignment",
     "output_type": "error",
     "traceback": [
      "\u001b[1;31m---------------------------------------------------------------------------\u001b[0m",
      "\u001b[1;31mTypeError\u001b[0m                                 Traceback (most recent call last)",
      "\u001b[1;32m<ipython-input-47-6a94845a5320>\u001b[0m in \u001b[0;36m<module>\u001b[1;34m()\u001b[0m\n\u001b[0;32m      1\u001b[0m \u001b[0ms\u001b[0m\u001b[1;33m=\u001b[0m\u001b[1;34m'python'\u001b[0m\u001b[1;33m\u001b[0m\u001b[0m\n\u001b[1;32m----> 2\u001b[1;33m \u001b[0ms\u001b[0m\u001b[1;33m[\u001b[0m\u001b[1;36m3\u001b[0m\u001b[1;33m]\u001b[0m\u001b[1;33m=\u001b[0m\u001b[1;34m's'\u001b[0m\u001b[1;33m\u001b[0m\u001b[0m\n\u001b[0m",
      "\u001b[1;31mTypeError\u001b[0m: 'str' object does not support item assignment"
     ]
    }
   ],
   "source": [
    "s='python'\n",
    "s[3]='s'"
   ]
  },
  {
   "cell_type": "markdown",
   "metadata": {},
   "source": [
    "### 함수\n",
    "* 재사용할수있는코드"
   ]
  },
  {
   "cell_type": "code",
   "execution_count": 276,
   "metadata": {},
   "outputs": [],
   "source": [
    "def func(a, b=3, **kwargs):\n",
    "    for aa in kwargs.items():\n",
    "        print 'aa: ', aa\n",
    "    #print kwargs\n",
    "    print a\n",
    "    print b"
   ]
  },
  {
   "cell_type": "code",
   "execution_count": 278,
   "metadata": {
    "scrolled": true
   },
   "outputs": [
    {
     "name": "stdout",
     "output_type": "stream",
     "text": [
      "aa:  ('e', 2)\n",
      "aa:  ('f', 1)\n",
      "aa:  ('i', 4)\n",
      "aa:  ('h', 2)\n",
      "aa:  ('L', 1)\n",
      "aa:  ('o', 1)\n",
      "aa:  ('n', 1)\n",
      "aa:  ('p', 1)\n",
      "aa:  ('s', 4)\n",
      "aa:  ('T', 1)\n",
      "aa:  ('y', 2)\n",
      "aa:  ('t', 1)\n",
      "4\n",
      "2\n"
     ]
    }
   ],
   "source": [
    "tu_1={'e': 2, 'f': 1, 'i': 4, 'h': 2, 'L': 1, 'o': 1, 'n': 1, 'p': 1, 's': 4, 'T': 1, 'y': 2, 't': 1}\n",
    "func(4,b=2,**tu_1)"
   ]
  },
  {
   "cell_type": "code",
   "execution_count": 277,
   "metadata": {},
   "outputs": [],
   "source": [
    "def func2(a, b=3, *args):\n",
    "    print args\n",
    "    print a\n",
    "    print b"
   ]
  },
  {
   "cell_type": "code",
   "execution_count": 99,
   "metadata": {
    "scrolled": true
   },
   "outputs": [
    {
     "name": "stdout",
     "output_type": "stream",
     "text": [
      "((1, 1, 2),)\n",
      "5\n",
      "3\n"
     ]
    }
   ],
   "source": [
    "func2(5,3,(1,1,2))"
   ]
  },
  {
   "cell_type": "code",
   "execution_count": 100,
   "metadata": {},
   "outputs": [
    {
     "name": "stdout",
     "output_type": "stream",
     "text": [
      "([8, 7, 6],)\n",
      "10\n",
      "9\n"
     ]
    }
   ],
   "source": [
    "func2(10,9,[8,7,6])"
   ]
  },
  {
   "cell_type": "code",
   "execution_count": 101,
   "metadata": {},
   "outputs": [
    {
     "name": "stdout",
     "output_type": "stream",
     "text": [
      "('L', 'T', 'e', 'f', 'i', 'h', 'o', 'n', 'p', 's', 't', 'y')\n",
      "10\n",
      "9\n"
     ]
    }
   ],
   "source": [
    "func2(10,9,*tu_1)"
   ]
  },
  {
   "cell_type": "code",
   "execution_count": 105,
   "metadata": {},
   "outputs": [
    {
     "name": "stdout",
     "output_type": "stream",
     "text": [
      "(1,)\n",
      "10\n",
      "9\n"
     ]
    }
   ],
   "source": [
    "func2(10,9,(1))"
   ]
  },
  {
   "cell_type": "code",
   "execution_count": 107,
   "metadata": {},
   "outputs": [
    {
     "name": "stdout",
     "output_type": "stream",
     "text": [
      "(1,)\n"
     ]
    }
   ],
   "source": [
    "print (1,)"
   ]
  },
  {
   "cell_type": "markdown",
   "metadata": {},
   "source": [
    "# Generators"
   ]
  },
  {
   "cell_type": "markdown",
   "metadata": {},
   "source": [
    "* 한 번에 한 결과를 만들어냄\n",
    "* 제너레이터는 iterators 라는 객체를 반환함\n",
    "* [] 대신 ()로 표현"
   ]
  },
  {
   "cell_type": "code",
   "execution_count": 210,
   "metadata": {},
   "outputs": [],
   "source": [
    "python_s='python is easy'\n",
    "r1=[c for c in python_s]\n",
    "r3={c:python_s.count(c) for c in python_s}\n",
    "r4={c for c in python_s}\n",
    "r5=(c for c in python_s)"
   ]
  },
  {
   "cell_type": "code",
   "execution_count": 211,
   "metadata": {
    "scrolled": true
   },
   "outputs": [
    {
     "name": "stdout",
     "output_type": "stream",
     "text": [
      "r1 ['p', 'y', 't', 'h', 'o', 'n', ' ', 'i', 's', ' ', 'e', 'a', 's', 'y']\n",
      "r3 {'a': 1, ' ': 2, 'e': 1, 'i': 1, 'h': 1, 'o': 1, 'n': 1, 'p': 1, 's': 2, 't': 1, 'y': 2}\n",
      "r4 set(['a', ' ', 'e', 'i', 'h', 'o', 'n', 'p', 's', 't', 'y'])\n",
      "r5 <generator object <genexpr> at 0x0000000003FF10D8>\n"
     ]
    }
   ],
   "source": [
    "#내포(튜플은 없음)\n",
    "print 'r1', r1\n",
    "print 'r3', r3\n",
    "print 'r4', r4\n",
    "print 'r5', r5"
   ]
  },
  {
   "cell_type": "code",
   "execution_count": 212,
   "metadata": {},
   "outputs": [
    {
     "name": "stdout",
     "output_type": "stream",
     "text": [
      "<type 'list'>\n",
      "<type 'dict'>\n",
      "<type 'set'>\n",
      "<type 'generator'>\n"
     ]
    }
   ],
   "source": [
    "print type(r1)\n",
    "print type(r3)\n",
    "print type(r4)\n",
    "print type(r5)"
   ]
  },
  {
   "cell_type": "code",
   "execution_count": 130,
   "metadata": {
    "scrolled": true
   },
   "outputs": [
    {
     "ename": "StopIteration",
     "evalue": "",
     "output_type": "error",
     "traceback": [
      "\u001b[1;31m---------------------------------------------------------------------------\u001b[0m",
      "\u001b[1;31mStopIteration\u001b[0m                             Traceback (most recent call last)",
      "\u001b[1;32m<ipython-input-130-8940f14ccaa2>\u001b[0m in \u001b[0;36m<module>\u001b[1;34m()\u001b[0m\n\u001b[1;32m----> 1\u001b[1;33m \u001b[0mr5\u001b[0m\u001b[1;33m.\u001b[0m\u001b[0mnext\u001b[0m\u001b[1;33m(\u001b[0m\u001b[1;33m)\u001b[0m\u001b[1;33m\u001b[0m\u001b[0m\n\u001b[0m",
      "\u001b[1;31mStopIteration\u001b[0m: "
     ]
    }
   ],
   "source": [
    "r5.next()"
   ]
  },
  {
   "cell_type": "markdown",
   "metadata": {},
   "source": [
    "### 특수함수"
   ]
  },
  {
   "cell_type": "markdown",
   "metadata": {},
   "source": [
    "* str은 repr을 대신할 수 없다\n",
    "    * 사용자가 보기 편한 형태로 자유롭게 표현 가능.\n",
    "    * 이 메소드가 정의되어 있지 않으면 \\_\\_repr\\_\\_이 대신 호출\n",
    "* repr은 str을 대신할 수 있따.\n",
    "    * 객체의 공식적인 문자열 표현. \n",
    "    * 파이썬식에 의해 같은 객체로 재생성 될 수 있는 문자열 표현 이어야함.\n",
    "    * 데이터형을 알 수 있도록 %r 이 들어간 formatted 문자열또는표현식을사용\n",
    "\n",
    "* hash, cmp는 같이 사용해야 한다.\n",
    "    * \\_\\_hash\\_\\_를 정의한 객체들은 사전에서 키로 사용 될 수 있다."
   ]
  },
  {
   "cell_type": "code",
   "execution_count": 134,
   "metadata": {},
   "outputs": [],
   "source": [
    "class A:\n",
    "    def __init__(self, member):\n",
    "        self.member=member\n",
    "    def __str__(self):\n",
    "        return '__str__ member is %i' %self.member"
   ]
  },
  {
   "cell_type": "code",
   "execution_count": 135,
   "metadata": {},
   "outputs": [],
   "source": [
    "a=A(7)"
   ]
  },
  {
   "cell_type": "code",
   "execution_count": 136,
   "metadata": {},
   "outputs": [
    {
     "name": "stdout",
     "output_type": "stream",
     "text": [
      "__str__ member is 7\n"
     ]
    }
   ],
   "source": [
    "print a"
   ]
  },
  {
   "cell_type": "code",
   "execution_count": 137,
   "metadata": {},
   "outputs": [
    {
     "data": {
      "text/plain": [
       "<__main__.A instance at 0x0000000004046688>"
      ]
     },
     "execution_count": 137,
     "metadata": {},
     "output_type": "execute_result"
    }
   ],
   "source": [
    "a"
   ]
  },
  {
   "cell_type": "code",
   "execution_count": 142,
   "metadata": {},
   "outputs": [],
   "source": [
    "class B:\n",
    "    def __init__(self, member):\n",
    "        self.member=member\n",
    "    def __repr__(self):\n",
    "        return '__repr__ member is %i' %self.member"
   ]
  },
  {
   "cell_type": "code",
   "execution_count": 143,
   "metadata": {},
   "outputs": [],
   "source": [
    "b=B(10)"
   ]
  },
  {
   "cell_type": "code",
   "execution_count": 144,
   "metadata": {},
   "outputs": [
    {
     "name": "stdout",
     "output_type": "stream",
     "text": [
      "__repr__ member is 10\n"
     ]
    }
   ],
   "source": [
    "print b"
   ]
  },
  {
   "cell_type": "code",
   "execution_count": 145,
   "metadata": {
    "scrolled": true
   },
   "outputs": [
    {
     "data": {
      "text/plain": [
       "__repr__ member is 10"
      ]
     },
     "execution_count": 145,
     "metadata": {},
     "output_type": "execute_result"
    }
   ],
   "source": [
    "b"
   ]
  },
  {
   "cell_type": "markdown",
   "metadata": {},
   "source": [
    "### 람다 표현식 (마치 함수처럼)"
   ]
  },
  {
   "cell_type": "code",
   "execution_count": 147,
   "metadata": {},
   "outputs": [],
   "source": [
    "func=lambda x:x+2"
   ]
  },
  {
   "cell_type": "code",
   "execution_count": 148,
   "metadata": {},
   "outputs": [
    {
     "name": "stdout",
     "output_type": "stream",
     "text": [
      "12\n"
     ]
    }
   ],
   "source": [
    "print func(10)"
   ]
  },
  {
   "cell_type": "code",
   "execution_count": 149,
   "metadata": {},
   "outputs": [],
   "source": [
    "class AAA:\n",
    "    def __init__(self, member):\n",
    "        self.member=member\n",
    "    def __add__(self, other):\n",
    "        return AAA(self.member+other.member)"
   ]
  },
  {
   "cell_type": "code",
   "execution_count": 155,
   "metadata": {},
   "outputs": [],
   "source": [
    "a=AAA(7)\n",
    "b=AAA(5)"
   ]
  },
  {
   "cell_type": "code",
   "execution_count": 156,
   "metadata": {},
   "outputs": [
    {
     "name": "stdout",
     "output_type": "stream",
     "text": [
      "7 5\n"
     ]
    }
   ],
   "source": [
    "print a.member, b.member"
   ]
  },
  {
   "cell_type": "code",
   "execution_count": 157,
   "metadata": {},
   "outputs": [],
   "source": [
    "c=a+b"
   ]
  },
  {
   "cell_type": "code",
   "execution_count": 158,
   "metadata": {},
   "outputs": [
    {
     "name": "stdout",
     "output_type": "stream",
     "text": [
      "12\n"
     ]
    }
   ],
   "source": [
    "print c.member"
   ]
  },
  {
   "cell_type": "code",
   "execution_count": 160,
   "metadata": {},
   "outputs": [],
   "source": [
    "a+=b"
   ]
  },
  {
   "cell_type": "code",
   "execution_count": 161,
   "metadata": {},
   "outputs": [
    {
     "name": "stdout",
     "output_type": "stream",
     "text": [
      "12\n"
     ]
    }
   ],
   "source": [
    "print a.member"
   ]
  },
  {
   "cell_type": "markdown",
   "metadata": {},
   "source": [
    "### eval()\n",
    "* 입력값으로 실행가능한 문자열을 받아서 이를 실행한 결과값을 반환"
   ]
  },
  {
   "cell_type": "code",
   "execution_count": 163,
   "metadata": {},
   "outputs": [
    {
     "data": {
      "text/plain": [
       "3"
      ]
     },
     "execution_count": 163,
     "metadata": {},
     "output_type": "execute_result"
    }
   ],
   "source": [
    "eval('1+2')"
   ]
  },
  {
   "cell_type": "markdown",
   "metadata": {},
   "source": [
    "### 예외처리"
   ]
  },
  {
   "cell_type": "markdown",
   "metadata": {},
   "source": [
    "* try-except-else"
   ]
  },
  {
   "cell_type": "markdown",
   "metadata": {},
   "source": [
    "* try-finally\n",
    "* raise IndexError\n",
    "    * raise(Exception, MessageClass('message', 10))\n",
    "    *  try: f()\n",
    "    *  except Exception as a:\n",
    "        * print (a.message, a.duration) # 에러발생"
   ]
  },
  {
   "cell_type": "markdown",
   "metadata": {},
   "source": [
    "* assert\n",
    "    * 디버깅 시 사용, 바른 조건을 가지고 진행하는지 확인"
   ]
  },
  {
   "cell_type": "code",
   "execution_count": 172,
   "metadata": {},
   "outputs": [
    {
     "ename": "AssertionError",
     "evalue": "not enough 2.0",
     "output_type": "error",
     "traceback": [
      "\u001b[1;31m---------------------------------------------------------------------------\u001b[0m",
      "\u001b[1;31mAssertionError\u001b[0m                            Traceback (most recent call last)",
      "\u001b[1;32m<ipython-input-172-cc63a4320d91>\u001b[0m in \u001b[0;36m<module>\u001b[1;34m()\u001b[0m\n\u001b[0;32m      2\u001b[0m \u001b[0mmargin\u001b[0m\u001b[1;33m=\u001b[0m\u001b[1;36m10\u001b[0m\u001b[1;33m*\u001b[0m\u001b[1;36m0.2\u001b[0m\u001b[1;33m\u001b[0m\u001b[0m\n\u001b[0;32m      3\u001b[0m \u001b[1;31m# 조건을 만족하지 않는 경우 에러 발생\u001b[0m\u001b[1;33m\u001b[0m\u001b[1;33m\u001b[0m\u001b[0m\n\u001b[1;32m----> 4\u001b[1;33m \u001b[1;32massert\u001b[0m \u001b[0mmargin\u001b[0m \u001b[1;33m>\u001b[0m \u001b[1;36m10\u001b[0m\u001b[1;33m,\u001b[0m \u001b[1;34m'not enough %s'\u001b[0m \u001b[1;33m%\u001b[0m\u001b[0mmargin\u001b[0m\u001b[1;33m\u001b[0m\u001b[0m\n\u001b[0m",
      "\u001b[1;31mAssertionError\u001b[0m: not enough 2.0"
     ]
    }
   ],
   "source": [
    "a=30\n",
    "margin=10*0.2\n",
    "# 조건을 만족하지 않는 경우 에러 발생\n",
    "assert margin > 10, 'not enough %s' %margin"
   ]
  },
  {
   "cell_type": "code",
   "execution_count": 170,
   "metadata": {},
   "outputs": [
    {
     "data": {
      "text/plain": [
       "20.0"
      ]
     },
     "execution_count": 170,
     "metadata": {},
     "output_type": "execute_result"
    }
   ],
   "source": [
    "margin"
   ]
  },
  {
   "cell_type": "markdown",
   "metadata": {},
   "source": [
    "### map (function, iterable, ...) \n",
    "    * 함수를 반복적인 각 아이템에 적용하고 결과를 이터레이터로 반환함"
   ]
  },
  {
   "cell_type": "code",
   "execution_count": 176,
   "metadata": {},
   "outputs": [],
   "source": [
    "def upper(s):\n",
    "    return s.upper()\n",
    "\n",
    "m1=list(map(upper,['sentence' ,'fragment']))\n",
    "m2=[upper(s) for s in ['sentence' ,'fragment']]"
   ]
  },
  {
   "cell_type": "code",
   "execution_count": 177,
   "metadata": {},
   "outputs": [
    {
     "name": "stdout",
     "output_type": "stream",
     "text": [
      "['SENTENCE', 'FRAGMENT'] ['SENTENCE', 'FRAGMENT']\n"
     ]
    }
   ],
   "source": [
    "print m1, m2"
   ]
  },
  {
   "cell_type": "markdown",
   "metadata": {},
   "source": [
    "### filter (function, iterable) \n",
    "    * 함수와 반복적인 자료를 입력받아 각 요소가 함수에 입력 될 때 참인 값만 이터레이터로 반환함"
   ]
  },
  {
   "cell_type": "code",
   "execution_count": 180,
   "metadata": {},
   "outputs": [
    {
     "name": "stdout",
     "output_type": "stream",
     "text": [
      "[0, 2, 4, 6, 8]\n"
     ]
    }
   ],
   "source": [
    "def is_even(x):\n",
    "    return (x%2)==0\n",
    "print list(filter(is_even, range(10)))"
   ]
  },
  {
   "cell_type": "markdown",
   "metadata": {},
   "source": [
    "### zip (iterA, iterB, ...) \n",
    "    * 동일한 개수의 요소값을 갖는 반복적인 자료들을 묶어서 __튜플__로 반환한다. \n",
    "    * 반복적인 자료들의 길이가 다를 경우 가장 짧은 자료를 기준으로 함."
   ]
  },
  {
   "cell_type": "code",
   "execution_count": 181,
   "metadata": {},
   "outputs": [],
   "source": [
    "lst_1=[1,2,3,4,5]\n",
    "lst_2=('a', 'b', 'ccc', 'dd', 4.67, 9.34, -123)"
   ]
  },
  {
   "cell_type": "code",
   "execution_count": 182,
   "metadata": {},
   "outputs": [
    {
     "name": "stdout",
     "output_type": "stream",
     "text": [
      "[(1, 'a'), (2, 'b'), (3, 'ccc'), (4, 'dd'), (5, 4.67)]\n"
     ]
    }
   ],
   "source": [
    "print list(zip(lst_1, lst_2))"
   ]
  },
  {
   "cell_type": "code",
   "execution_count": 220,
   "metadata": {},
   "outputs": [
    {
     "data": {
      "text/plain": [
       "' '"
      ]
     },
     "execution_count": 220,
     "metadata": {},
     "output_type": "execute_result"
    }
   ],
   "source": [
    "string1, string2, string3 = ' ', 'Trondheim', 'Hammer Dance'\n",
    "non_null = string1 or string2 or string3\n",
    "non_null"
   ]
  },
  {
   "cell_type": "code",
   "execution_count": 240,
   "metadata": {},
   "outputs": [],
   "source": [
    "lst_1=[1,2,3,4,5]"
   ]
  },
  {
   "cell_type": "code",
   "execution_count": 242,
   "metadata": {},
   "outputs": [
    {
     "data": {
      "text/plain": [
       "[5, 4, 3, 2, 1]"
      ]
     },
     "execution_count": 242,
     "metadata": {},
     "output_type": "execute_result"
    }
   ],
   "source": [
    "lst_1"
   ]
  }
 ],
 "metadata": {
  "kernelspec": {
   "display_name": "Python 2",
   "language": "python",
   "name": "python2"
  },
  "language_info": {
   "codemirror_mode": {
    "name": "ipython",
    "version": 2
   },
   "file_extension": ".py",
   "mimetype": "text/x-python",
   "name": "python",
   "nbconvert_exporter": "python",
   "pygments_lexer": "ipython2",
   "version": "2.7.14"
  }
 },
 "nbformat": 4,
 "nbformat_minor": 2
}
